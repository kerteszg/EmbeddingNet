{
 "cells": [
  {
   "cell_type": "code",
   "execution_count": null,
   "metadata": {},
   "outputs": [],
   "source": [
    "import os"
   ]
  },
  {
   "cell_type": "code",
   "execution_count": null,
   "metadata": {},
   "outputs": [],
   "source": [
    "if not os.path.exists(\"sqdataset\"):\n",
    "    os.mkdir(\"sqdataset\")"
   ]
  },
  {
   "cell_type": "code",
   "execution_count": null,
   "metadata": {},
   "outputs": [],
   "source": [
    "if not os.path.exists(\"sqdataset/train\"):\n",
    "    os.mkdir(\"sqdataset/train\")"
   ]
  },
  {
   "cell_type": "code",
   "execution_count": null,
   "metadata": {},
   "outputs": [],
   "source": [
    "if not os.path.exists(\"sqdataset/validate\"):\n",
    "    os.mkdir(\"sqdataset/validate\")"
   ]
  },
  {
   "cell_type": "code",
   "execution_count": null,
   "metadata": {},
   "outputs": [],
   "source": [
    "from imcroplib import im2square"
   ]
  },
  {
   "cell_type": "code",
   "execution_count": null,
   "metadata": {},
   "outputs": [],
   "source": [
    "dirs = [item for item in os.listdir(\"dataset/train\") if not os.path.isfile(os.path.join(\"dataset/train\", item))]"
   ]
  },
  {
   "cell_type": "code",
   "execution_count": null,
   "metadata": {},
   "outputs": [],
   "source": [
    "for dir in dirs:\n",
    "    os.mkdir(os.path.join(\"sqdataset/train/\", dir))\n",
    "    for file in os.listdir(os.path.join(\"dataset/train\", dir)):\n",
    "        im2square(os.path.join(\"dataset/train\", dir, file)).save(os.path.join(\"sqdataset/train\", dir, file))\n",
    "    os.mkdir(os.path.join(\"sqdataset/validate/\", dir))\n",
    "    for file in os.listdir(os.path.join(\"dataset/validate\", dir)):\n",
    "        im2square(os.path.join(\"dataset/validate\", dir, file)).save(os.path.join(\"sqdataset/validate\", dir, file))"
   ]
  },
  {
   "cell_type": "code",
   "execution_count": null,
   "metadata": {},
   "outputs": [],
   "source": [
    "[\"{}: {}\".format(root, len(files)) for root, dirs, files in os.walk(\"sqdataset\")]"
   ]
  }
 ],
 "metadata": {
  "kernelspec": {
   "display_name": "Python 3",
   "language": "python",
   "name": "python3"
  },
  "language_info": {
   "codemirror_mode": {
    "name": "ipython",
    "version": 3
   },
   "file_extension": ".py",
   "mimetype": "text/x-python",
   "name": "python",
   "nbconvert_exporter": "python",
   "pygments_lexer": "ipython3",
   "version": "3.7.3"
  }
 },
 "nbformat": 4,
 "nbformat_minor": 4
}
