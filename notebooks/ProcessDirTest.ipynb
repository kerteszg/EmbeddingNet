{
 "cells": [
  {
   "cell_type": "code",
   "execution_count": null,
   "metadata": {},
   "outputs": [],
   "source": [
    "import os"
   ]
  },
  {
   "cell_type": "code",
   "execution_count": null,
   "metadata": {},
   "outputs": [],
   "source": [
    "dirs = [item for item in os.listdir(\"by_class\") if not os.path.isfile(os.path.join(\"by_class\", item))]"
   ]
  },
  {
   "cell_type": "code",
   "execution_count": null,
   "metadata": {},
   "outputs": [],
   "source": [
    "dirs"
   ]
  },
  {
   "cell_type": "code",
   "execution_count": null,
   "metadata": {},
   "outputs": [],
   "source": [
    "if not os.path.exists(\"dataset\"):\n",
    "    os.mkdir(\"dataset\")"
   ]
  },
  {
   "cell_type": "code",
   "execution_count": null,
   "metadata": {},
   "outputs": [],
   "source": [
    "if not os.path.exists(\"dataset/train\"):\n",
    "    os.mkdir(\"dataset/train\")"
   ]
  },
  {
   "cell_type": "code",
   "execution_count": null,
   "metadata": {},
   "outputs": [],
   "source": [
    "if not os.path.exists(\"dataset/validate\"):\n",
    "    os.mkdir(\"dataset/validate\")"
   ]
  },
  {
   "cell_type": "code",
   "execution_count": null,
   "metadata": {},
   "outputs": [],
   "source": [
    "from shutil import copyfile, copytree\n",
    "import subprocess"
   ]
  },
  {
   "cell_type": "markdown",
   "metadata": {},
   "source": [
    "Note: *xcopy* is far more efficient to copy a complete directory than applying *shutil.copyfile()* in a for loop"
   ]
  },
  {
   "cell_type": "code",
   "execution_count": null,
   "metadata": {},
   "outputs": [],
   "source": [
    "for dir in dirs:\n",
    "    os.mkdir(os.path.join(\"dataset/train/\", dir))\n",
    "    #copytree(os.path.join(\"by_class\", dir, \"train_\" + dir), os.path.join(\"dataset/train\", dir))\n",
    "    subprocess.call(['xcopy', '/q', os.path.join(\"by_class\", dir, \"train_\" + dir), os.path.join(\"dataset\\\\train\", dir)])\n",
    "    #for file in os.listdir(os.path.join(\"by_class\", dir, \"train_\" + dir)):\n",
    "        #copyfile(os.path.join(\"by_class\", dir, \"train_\" + dir, file), os.path.join(\"dataset/train\", dir, file))\n",
    "    os.mkdir(os.path.join(\"dataset/validate/\", dir))\n",
    "    #copytree(os.path.join(\"by_class\", dir, \"hsf_4\"), os.path.join(\"dataset/validate\", dir))\n",
    "    subprocess.call(['xcopy','/q', os.path.join(\"by_class\", dir, \"hsf_4\"), os.path.join(\"dataset\\\\validate\", dir)])\n",
    "    #for file in os.listdir(os.path.join(\"by_class\", dir, \"hsf_4\")):\n",
    "        #copyfile(os.path.join(\"by_class\", dir, \"hsf_4\", file), os.path.join(\"dataset/validate\", dir, file))"
   ]
  },
  {
   "cell_type": "code",
   "execution_count": null,
   "metadata": {},
   "outputs": [],
   "source": [
    "[\"{}: {}\".format(root, len(files)) for root, dirs, files in os.walk(\"dataset\")]"
   ]
  },
  {
   "cell_type": "markdown",
   "metadata": {},
   "source": [
    "*shutil.copytree()* is another option, but native *xcopy* is still more robust"
   ]
  },
  {
   "cell_type": "code",
   "execution_count": null,
   "metadata": {},
   "outputs": [],
   "source": [
    "#from shutil import copytree"
   ]
  },
  {
   "cell_type": "code",
   "execution_count": null,
   "metadata": {},
   "outputs": [],
   "source": [
    "#copytree(os.path.join(\"by_class\", dir, \"train_\" + dir), os.path.join(\"dataset/train\", dir))"
   ]
  }
 ],
 "metadata": {
  "kernelspec": {
   "display_name": "Python 3",
   "language": "python",
   "name": "python3"
  },
  "language_info": {
   "codemirror_mode": {
    "name": "ipython",
    "version": 3
   },
   "file_extension": ".py",
   "mimetype": "text/x-python",
   "name": "python",
   "nbconvert_exporter": "python",
   "pygments_lexer": "ipython3",
   "version": "3.7.3"
  }
 },
 "nbformat": 4,
 "nbformat_minor": 4
}
