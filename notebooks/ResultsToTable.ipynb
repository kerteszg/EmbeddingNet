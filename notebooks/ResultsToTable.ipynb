{
 "cells": [
  {
   "cell_type": "code",
   "execution_count": 1,
   "metadata": {},
   "outputs": [],
   "source": [
    "results = {'nist_mdipfl50_mymodel-hardest_trainacc': [100.0, 97.1, 93.9, 89.9, 87.8, 85.7, 85.0, 83.2, 82.1, 81.0], 'nist_mdipfl50_mymodel-hardest_valacc': [100.0, 96.2, 93.2, 88.3, 87.1, 82.9, 79.9, 81.1, 79.5, 75.1], 'nist_mdipfl50_mymodel_trainacc': [100.0, 95.1, 89.1, 87.6, 84.9, 83.3, 80.0, 76.7, 75.9, 71.2], 'nist_mdipfl50_mymodel_valacc': [100.0, 92.4, 87.3, 86.2, 81.5, 77.6, 75.0, 76.0, 69.6, 70.6], 'nist_mdipfl50_mymodel_nopretrain-hardest_trainacc': [100.0, 97.2, 92.8, 90.1, 87.4, 85.8, 82.7, 82.4, 78.5, 76.6], 'nist_mdipfl50_mymodel_nopretrain-hardest_valacc': [100.0, 94.3, 91.8, 87.3, 83.4, 80.8, 79.3, 77.3, 77.2, 75.5], 'nist_mdipfl50_mymodel_nopretrain_trainacc': [100.0, 82.6, 71.2, 66.5, 58.5, 56.3, 54.5, 51.5, 48.5, 46.0], 'nist_mdipfl50_mymodel_nopretrain_valacc': [100.0, 80.8, 72.4, 66.4, 61.0, 54.7, 54.8, 50.6, 45.6, 42.2], 'nist_mdipfl50_mymodel_siamese_trainacc': [100.0, 98.7, 97.4, 96.2, 95.0, 93.3, 93.4, 92.0, 91.3, 90.2], 'nist_mdipfl50_mymodel_siamese_valacc': [100.0, 97.3, 95.2, 94.0, 90.4, 88.8, 87.1, 88.3, 87.2, 86.2], 'nist_mdipfl50_mymodel_siamese_nopretrain_trainacc': [100.0, 98.6, 96.7, 96.1, 94.0, 93.5, 93.4, 92.7, 92.0, 91.6], 'nist_mdipfl50_mymodel_siamese_nopretrain_valacc': [100.0, 97.7, 95.1, 93.9, 92.7, 92.2, 88.0, 88.1, 85.9, 87.3], 'nist_mymodel-hardest_trainacc': [100.0, 96.2, 93.5, 91.7, 89.4, 87.6, 81.9, 82.1, 83.6, 81.0], 'nist_mymodel-hardest_valacc': [100.0, 95.7, 92.5, 91.1, 86.7, 82.4, 81.0, 80.2, 76.9, 75.3], 'nist_mymodel_trainacc': [100.0, 96.3, 92.4, 90.4, 86.7, 86.2, 83.4, 81.5, 79.7, 77.7], 'nist_mymodel_valacc': [100.0, 94.8, 87.7, 86.0, 83.9, 80.5, 82.0, 75.6, 77.5, 74.2], 'nist_mymodel_nopretrain-hardest_trainacc': [100.0, 96.6, 93.0, 88.5, 87.5, 85.2, 83.2, 80.8, 79.8, 78.8], 'nist_mymodel_nopretrain-hardest_valacc': [100.0, 95.8, 91.0, 87.1, 87.7, 84.5, 80.4, 80.6, 78.3, 76.1], 'nist_mymodel_nopretrain_trainacc': [100.0, 96.5, 93.5, 90.9, 90.0, 86.3, 84.3, 83.8, 84.4, 80.2], 'nist_mymodel_nopretrain_valacc': [100.0, 94.7, 93.4, 88.0, 86.7, 83.5, 83.3, 79.8, 80.1, 76.7], 'nist_mymodel_siamese_trainacc': [100.0, 99.1, 97.9, 97.6, 96.0, 94.1, 95.1, 92.9, 93.3, 91.9], 'nist_mymodel_siamese_valacc': [100.0, 98.3, 96.4, 95.6, 93.7, 92.2, 90.9, 90.4, 88.8, 89.9], 'nist_mymodel_siamese_nopretrain_trainacc': [100.0, 99.3, 98.1, 97.6, 96.7, 95.1, 96.0, 94.2, 92.3, 91.9], 'nist_mymodel_siamese_nopretrain_valacc': [100.0, 98.2, 97.5, 94.9, 94.7, 92.3, 93.6, 90.1, 87.8, 89.5], 'nist_sq_mymodel-hardest_trainacc': [100.0, 94.1, 88.6, 87.3, 84.3, 82.4, 79.0, 78.4, 74.1, 73.0], 'nist_sq_mymodel-hardest_valacc': [100.0, 94.1, 86.3, 85.9, 81.2, 78.1, 77.6, 71.7, 68.1, 69.8], 'nist_sq_mymodel_trainacc': [100.0, 91.9, 86.6, 80.9, 77.3, 75.2, 73.4, 69.6, 66.0, 65.7], 'nist_sq_mymodel_valacc': [100.0, 90.3, 83.8, 81.3, 77.3, 72.4, 68.2, 68.2, 65.1, 60.4], 'nist_sq_mymodel_nopretrain-hardest_trainacc': [100.0, 93.9, 87.0, 80.0, 75.9, 74.3, 74.0, 70.6, 66.6, 68.9], 'nist_sq_mymodel_nopretrain-hardest_valacc': [100.0, 90.4, 83.0, 80.5, 76.4, 68.9, 70.6, 66.1, 64.2, 64.2], 'nist_sq_mymodel_nopretrain_trainacc': [100.0, 83.2, 71.4, 66.2, 61.6, 52.5, 52.2, 46.7, 43.3, 45.1], 'nist_sq_mymodel_nopretrain_valacc': [100.0, 81.9, 70.3, 65.7, 61.4, 57.2, 52.1, 49.1, 45.0, 46.3], 'nist_sq_mymodel_siamese_trainacc': [100.0, 98.6, 96.2, 95.2, 95.7, 94.5, 93.1, 92.1, 90.8, 89.9], 'nist_sq_mymodel_siamese_valacc': [100.0, 97.5, 94.7, 94.0, 94.5, 90.5, 91.6, 89.7, 88.0, 86.5], 'nist_sq_mymodel_siamese_nopretrain_trainacc': [100.0, 98.1, 93.7, 93.9, 90.1, 89.4, 87.9, 86.8, 84.3, 85.0], 'nist_sq_mymodel_siamese_nopretrain_valacc': [100.0, 94.9, 92.8, 91.1, 88.8, 84.9, 83.3, 84.4, 82.1, 79.8], 'nu_cvpr2016_mdipfl50_mymodel-hardest_trainacc': [100.0, 82.6, 77.6, 67.9, 60.5, 55.4, 53.2, 54.5, 49.8, 47.9], 'nu_cvpr2016_mdipfl50_mymodel-hardest_valacc': [100.0, 85.2, 77.9, 68.8, 63.0, 60.7, 55.9, 53.9, 49.9, 44.5], 'nu_cvpr2016_mdipfl50_mymodel_trainacc': [100.0, 85.4, 78.2, 75.5, 68.2, 62.0, 61.9, 57.3, 54.1, 49.7], 'nu_cvpr2016_mdipfl50_mymodel_valacc': [100.0, 86.6, 75.6, 69.3, 66.8, 63.3, 58.8, 54.7, 51.9, 52.5], 'nu_cvpr2016_mdipfl50_mymodel_siamese_trainacc': [100.0, 64.1, 50.8, 45.0, 36.6, 34.6, 30.3, 28.4, 25.5, 25.5], 'nu_cvpr2016_mdipfl50_mymodel_siamese_valacc': [100.0, 62.0, 48.5, 42.0, 37.7, 30.5, 26.3, 25.7, 23.1, 19.4], 'nu_cvpr2016_mdipfl50_nasnet-hardest_trainacc': [100.0, 89.4, 78.3, 71.7, 65.3, 64.4, 60.2, 57.3, 53.4, 50.8], 'nu_cvpr2016_mdipfl50_nasnet-hardest_valacc': [100.0, 89.1, 78.9, 71.1, 67.4, 64.4, 57.7, 55.5, 53.9, 49.3], 'nu_cvpr2016_mdipfl50_nasnet_trainacc': [100.0, 87.5, 75.3, 71.0, 67.7, 61.7, 58.6, 56.3, 52.0, 50.3], 'nu_cvpr2016_mdipfl50_nasnet_valacc': [100.0, 87.2, 79.4, 70.7, 64.5, 65.4, 60.0, 56.5, 53.3, 49.8], 'nu_cvpr2016_mdipfl50_nasnet_nopretrain-hardest_trainacc': [100.0, 82.1, 68.9, 63.3, 55.8, 52.5, 49.5, 47.0, 42.6, 42.2], 'nu_cvpr2016_mdipfl50_nasnet_nopretrain-hardest_valacc': [100.0, 80.7, 70.2, 62.1, 58.4, 50.8, 43.6, 43.1, 40.7, 40.4], 'nu_cvpr2016_mdipfl50_nasnet_nopretrain_trainacc': [100.0, 88.0, 80.4, 71.6, 68.2, 65.7, 62.5, 57.2, 54.7, 50.8], 'nu_cvpr2016_mdipfl50_nasnet_nopretrain_valacc': [100.0, 88.4, 80.7, 72.0, 67.6, 65.2, 62.5, 57.3, 52.1, 50.0], 'nu_cvpr2016_mdipfl50_nasnet_siamese_trainacc': [100.0, 82.2, 70.8, 64.7, 58.9, 54.3, 52.6, 47.7, 45.7, 43.3], 'nu_cvpr2016_mdipfl50_nasnet_siamese_valacc': [100.0, 76.6, 69.3, 61.3, 55.4, 52.6, 48.4, 45.5, 43.2, 41.8], 'nu_cvpr2016_mdipfl50_nasnet_siamese_nopretrain_trainacc': [100.0, 80.6, 69.8, 59.4, 53.0, 49.3, 48.6, 43.7, 40.2, 38.7], 'nu_cvpr2016_mdipfl50_nasnet_siamese_nopretrain_valacc': [100.0, 79.7, 68.2, 57.0, 55.3, 50.2, 47.8, 43.0, 41.0, 37.9], 'nu_cvpr2016_mdipfl50_resnet18-hardest_trainacc': [100.0, 94.2, 89.7, 87.5, 83.1, 79.1, 76.8, 77.5, 77.7, 74.2], 'nu_cvpr2016_mdipfl50_resnet18-hardest_valacc': [100.0, 93.2, 89.3, 83.0, 81.2, 78.7, 72.7, 72.0, 73.2, 70.7], 'nu_cvpr2016_mdipfl50_resnet18_trainacc': [100.0, 95.7, 91.2, 89.1, 85.2, 82.4, 80.5, 79.5, 74.4, 73.8], 'nu_cvpr2016_mdipfl50_resnet18_valacc': [100.0, 94.3, 88.2, 84.5, 82.9, 78.7, 76.1, 74.1, 70.0, 71.1], 'nu_cvpr2016_mdipfl50_resnet18_nopretrain-hardest_trainacc': [100.0, 95.2, 86.4, 83.5, 79.3, 77.4, 73.4, 71.5, 68.4, 66.0], 'nu_cvpr2016_mdipfl50_resnet18_nopretrain-hardest_valacc': [100.0, 92.8, 87.4, 82.4, 80.2, 73.4, 70.4, 69.3, 65.9, 61.7], 'nu_cvpr2016_mdipfl50_resnet18_nopretrain_trainacc': [100.0, 96.8, 92.8, 90.9, 86.0, 86.2, 83.7, 81.6, 80.8, 77.4], 'nu_cvpr2016_mdipfl50_resnet18_nopretrain_valacc': [100.0, 94.8, 90.2, 88.6, 82.9, 81.0, 81.5, 74.9, 74.8, 75.7], 'nu_cvpr2016_mdipfl50_resnet18_siamese_trainacc': [100.0, 92.8, 87.4, 85.2, 78.9, 74.3, 73.4, 72.2, 69.9, 66.9], 'nu_cvpr2016_mdipfl50_resnet18_siamese_valacc': [100.0, 91.8, 83.5, 79.4, 76.1, 74.0, 71.3, 65.8, 66.5, 65.6], 'nu_cvpr2016_mdipfl50_resnet18_siamese_nopretrain_trainacc': [100.0, 83.6, 78.6, 71.2, 71.2, 63.5, 61.3, 59.2, 56.9, 54.1], 'nu_cvpr2016_mdipfl50_resnet18_siamese_nopretrain_valacc': [100.0, 82.9, 76.0, 70.3, 67.7, 66.0, 62.0, 58.1, 56.7, 55.1], 'nu_cvpr2016_resnet18-hardest_trainacc': [100.0, 97.8, 94.4, 93.8, 89.3, 88.7, 87.5, 85.3, 83.0, 82.8], 'nu_cvpr2016_resnet18-hardest_valacc': [100.0, 95.8, 93.4, 91.3, 89.7, 87.8, 85.4, 85.7, 83.1, 82.3], 'nu_cvpr2016_resnet18_trainacc': [100.0, 97.3, 95.7, 93.0, 91.8, 89.1, 87.8, 85.4, 85.1, 83.9], 'nu_cvpr2016_resnet18_valacc': [100.0, 96.1, 93.6, 90.7, 90.4, 85.9, 86.8, 84.9, 82.0, 78.6], 'nu_cvpr2016_resnet18_siamese_trainacc': [100.0, 97.8, 97.9, 95.6, 95.7, 92.8, 93.7, 92.5, 91.4, 89.2], 'nu_cvpr2016_resnet18_siamese_valacc': [100.0, 96.8, 95.8, 92.3, 90.7, 90.0, 87.6, 86.0, 85.0, 83.5]}"
   ]
  },
  {
   "cell_type": "markdown",
   "metadata": {},
   "source": [
    "## NIST SD19"
   ]
  },
  {
   "cell_type": "code",
   "execution_count": 2,
   "metadata": {},
   "outputs": [],
   "source": [
    "configs = [\"nist_mymodel\", \"nist_sq_mymodel\", \"nist_mdipfl50_mymodel\"]"
   ]
  },
  {
   "cell_type": "code",
   "execution_count": 3,
   "metadata": {},
   "outputs": [],
   "source": [
    "pretrain = [\"\", \"_nopretrain\"]"
   ]
  },
  {
   "cell_type": "code",
   "execution_count": 4,
   "metadata": {},
   "outputs": [],
   "source": [
    "architecture_mining = [\"_siamese\", \"\", \"-hardest\"]"
   ]
  },
  {
   "cell_type": "code",
   "execution_count": 5,
   "metadata": {},
   "outputs": [],
   "source": [
    "rows = []\n",
    "for c in configs:\n",
    "    for p in pretrain:\n",
    "        for a in architecture_mining:\n",
    "            if a == '-hardest':\n",
    "                rows.append(c+p+a)\n",
    "            else:\n",
    "                rows.append(c+a+p)"
   ]
  },
  {
   "cell_type": "code",
   "execution_count": 6,
   "metadata": {},
   "outputs": [
    {
     "data": {
      "text/plain": [
       "['nist_mymodel_siamese',\n",
       " 'nist_mymodel',\n",
       " 'nist_mymodel-hardest',\n",
       " 'nist_mymodel_siamese_nopretrain',\n",
       " 'nist_mymodel_nopretrain',\n",
       " 'nist_mymodel_nopretrain-hardest',\n",
       " 'nist_sq_mymodel_siamese',\n",
       " 'nist_sq_mymodel',\n",
       " 'nist_sq_mymodel-hardest',\n",
       " 'nist_sq_mymodel_siamese_nopretrain',\n",
       " 'nist_sq_mymodel_nopretrain',\n",
       " 'nist_sq_mymodel_nopretrain-hardest',\n",
       " 'nist_mdipfl50_mymodel_siamese',\n",
       " 'nist_mdipfl50_mymodel',\n",
       " 'nist_mdipfl50_mymodel-hardest',\n",
       " 'nist_mdipfl50_mymodel_siamese_nopretrain',\n",
       " 'nist_mdipfl50_mymodel_nopretrain',\n",
       " 'nist_mdipfl50_mymodel_nopretrain-hardest']"
      ]
     },
     "execution_count": 6,
     "metadata": {},
     "output_type": "execute_result"
    }
   ],
   "source": [
    "rows"
   ]
  },
  {
   "cell_type": "code",
   "execution_count": 7,
   "metadata": {},
   "outputs": [
    {
     "name": "stdout",
     "output_type": "stream",
     "text": [
      "Original 128x128\tYes\tSiamese\t.\t100.0\t98.3\t96.4\t95.6\t93.7\t92.2\t90.9\t90.4\t88.8\t89.9\n",
      "Original 128x128\tYes\tTriplet\tSemi-hard\t100.0\t94.8\t87.7\t86.0\t83.9\t80.5\t82.0\t75.6\t77.5\t74.2\n",
      "Original 128x128\tYes\tTriplet\tHardest\t100.0\t95.7\t92.5\t91.1\t86.7\t82.4\t81.0\t80.2\t76.9\t75.3\n",
      "Original 128x128\tNo\tSiamese\t.\t100.0\t98.2\t97.5\t94.9\t94.7\t92.3\t93.6\t90.1\t87.8\t89.5\n",
      "Original 128x128\tNo\tTriplet\tSemi-hard\t100.0\t94.7\t93.4\t88.0\t86.7\t83.5\t83.3\t79.8\t80.1\t76.7\n",
      "Original 128x128\tNo\tTriplet\tHardest\t100.0\t95.8\t91.0\t87.1\t87.7\t84.5\t80.4\t80.6\t78.3\t76.1\n",
      "Highlighted 96x96\tYes\tSiamese\t.\t100.0\t97.5\t94.7\t94.0\t94.5\t90.5\t91.6\t89.7\t88.0\t86.5\n",
      "Highlighted 96x96\tYes\tTriplet\tSemi-hard\t100.0\t90.3\t83.8\t81.3\t77.3\t72.4\t68.2\t68.2\t65.1\t60.4\n",
      "Highlighted 96x96\tYes\tTriplet\tHardest\t100.0\t94.1\t86.3\t85.9\t81.2\t78.1\t77.6\t71.7\t68.1\t69.8\n",
      "Highlighted 96x96\tNo\tSiamese\t.\t100.0\t94.9\t92.8\t91.1\t88.8\t84.9\t83.3\t84.4\t82.1\t79.8\n",
      "Highlighted 96x96\tNo\tTriplet\tSemi-hard\t100.0\t81.9\t70.3\t65.7\t61.4\t57.2\t52.1\t49.1\t45.0\t46.3\n",
      "Highlighted 96x96\tNo\tTriplet\tHardest\t100.0\t90.4\t83.0\t80.5\t76.4\t68.9\t70.6\t66.1\t64.2\t64.2\n",
      "MDIPFL50 50x37\tYes\tSiamese\t.\t100.0\t97.3\t95.2\t94.0\t90.4\t88.8\t87.1\t88.3\t87.2\t86.2\n",
      "MDIPFL50 50x37\tYes\tTriplet\tSemi-hard\t100.0\t92.4\t87.3\t86.2\t81.5\t77.6\t75.0\t76.0\t69.6\t70.6\n",
      "MDIPFL50 50x37\tYes\tTriplet\tHardest\t100.0\t96.2\t93.2\t88.3\t87.1\t82.9\t79.9\t81.1\t79.5\t75.1\n",
      "MDIPFL50 50x37\tNo\tSiamese\t.\t100.0\t97.7\t95.1\t93.9\t92.7\t92.2\t88.0\t88.1\t85.9\t87.3\n",
      "MDIPFL50 50x37\tNo\tTriplet\tSemi-hard\t100.0\t80.8\t72.4\t66.4\t61.0\t54.7\t54.8\t50.6\t45.6\t42.2\n",
      "MDIPFL50 50x37\tNo\tTriplet\tHardest\t100.0\t94.3\t91.8\t87.3\t83.4\t80.8\t79.3\t77.3\t77.2\t75.5\n"
     ]
    }
   ],
   "source": [
    "for r in rows:\n",
    "    if r+\"_valacc\" not in results:\n",
    "        raise Exception('we have a problem: cant find ' + r + '_valacc')\n",
    "    print('Original 128x128' if 'nist_mymodel' in r else ('Highlighted 96x96' if 'nist_sq_mymodel' in r else 'MDIPFL50 50x37'),\n",
    "          'No' if '_nopretrain' in r else 'Yes',\n",
    "          'Siamese' if '_siamese' in r else 'Triplet',\n",
    "          'Hardest' if '-hardest' in r else ('.' if '_siamese' in r else 'Semi-hard'),\n",
    "          '\\t'.join(str(x) for x in results[r+\"_valacc\"]), sep='\\t')"
   ]
  },
  {
   "cell_type": "markdown",
   "metadata": {},
   "source": [
    "## ATS-CVPR2016"
   ]
  },
  {
   "cell_type": "code",
   "execution_count": 8,
   "metadata": {},
   "outputs": [],
   "source": [
    "configs = [\"nu_cvpr2016_mdipfl50_resnet18\"]"
   ]
  },
  {
   "cell_type": "code",
   "execution_count": 9,
   "metadata": {},
   "outputs": [],
   "source": [
    "pretrain = [\"\", \"_nopretrain\"]"
   ]
  },
  {
   "cell_type": "code",
   "execution_count": 10,
   "metadata": {},
   "outputs": [],
   "source": [
    "architecture_mining = [\"_siamese\", \"\", \"-hardest\"]"
   ]
  },
  {
   "cell_type": "code",
   "execution_count": 11,
   "metadata": {},
   "outputs": [],
   "source": [
    "rows = []\n",
    "for c in configs:\n",
    "    for p in pretrain:\n",
    "        for a in architecture_mining:\n",
    "            if a == '-hardest':\n",
    "                rows.append(c+p+a)\n",
    "            else:\n",
    "                rows.append(c+a+p)"
   ]
  },
  {
   "cell_type": "code",
   "execution_count": 12,
   "metadata": {},
   "outputs": [
    {
     "data": {
      "text/plain": [
       "['nu_cvpr2016_mdipfl50_resnet18_siamese',\n",
       " 'nu_cvpr2016_mdipfl50_resnet18',\n",
       " 'nu_cvpr2016_mdipfl50_resnet18-hardest',\n",
       " 'nu_cvpr2016_mdipfl50_resnet18_siamese_nopretrain',\n",
       " 'nu_cvpr2016_mdipfl50_resnet18_nopretrain',\n",
       " 'nu_cvpr2016_mdipfl50_resnet18_nopretrain-hardest']"
      ]
     },
     "execution_count": 12,
     "metadata": {},
     "output_type": "execute_result"
    }
   ],
   "source": [
    "rows"
   ]
  },
  {
   "cell_type": "code",
   "execution_count": 13,
   "metadata": {},
   "outputs": [
    {
     "name": "stdout",
     "output_type": "stream",
     "text": [
      "Yes\tSiamese\t.\t100.0\t91.8\t83.5\t79.4\t76.1\t74.0\t71.3\t65.8\t66.5\t65.6\n",
      "Yes\tTriplet\tSemi-hard\t100.0\t94.3\t88.2\t84.5\t82.9\t78.7\t76.1\t74.1\t70.0\t71.1\n",
      "Yes\tTriplet\tHardest\t100.0\t93.2\t89.3\t83.0\t81.2\t78.7\t72.7\t72.0\t73.2\t70.7\n",
      "No\tSiamese\t.\t100.0\t82.9\t76.0\t70.3\t67.7\t66.0\t62.0\t58.1\t56.7\t55.1\n",
      "No\tTriplet\tSemi-hard\t100.0\t94.8\t90.2\t88.6\t82.9\t81.0\t81.5\t74.9\t74.8\t75.7\n",
      "No\tTriplet\tHardest\t100.0\t92.8\t87.4\t82.4\t80.2\t73.4\t70.4\t69.3\t65.9\t61.7\n"
     ]
    }
   ],
   "source": [
    "for r in rows:\n",
    "    if r+\"_valacc\" not in results:\n",
    "        raise Exception('we have a problem: cant find ' + r + '_valacc')\n",
    "    print('No' if '_nopretrain' in r else 'Yes',\n",
    "          'Siamese' if '_siamese' in r else 'Triplet',\n",
    "          'Hardest' if '-hardest' in r else ('.' if '_siamese' in r else 'Semi-hard'),\n",
    "          '\\t'.join(str(x) for x in results[r+\"_valacc\"]), sep='\\t')"
   ]
  }
 ],
 "metadata": {
  "kernelspec": {
   "display_name": "Python 3",
   "language": "python",
   "name": "python3"
  },
  "language_info": {
   "codemirror_mode": {
    "name": "ipython",
    "version": 3
   },
   "file_extension": ".py",
   "mimetype": "text/x-python",
   "name": "python",
   "nbconvert_exporter": "python",
   "pygments_lexer": "ipython3",
   "version": "3.7.3"
  }
 },
 "nbformat": 4,
 "nbformat_minor": 4
}
