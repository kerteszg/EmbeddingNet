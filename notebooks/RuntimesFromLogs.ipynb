{
 "cells": [
  {
   "cell_type": "code",
   "execution_count": 1,
   "metadata": {},
   "outputs": [],
   "source": [
    "import os"
   ]
  },
  {
   "cell_type": "code",
   "execution_count": 2,
   "metadata": {},
   "outputs": [],
   "source": [
    "logs = [\"tb-logs/\" + item for item in os.listdir(\"tb-logs\") if \".csv\" in item]"
   ]
  },
  {
   "cell_type": "code",
   "execution_count": 3,
   "metadata": {},
   "outputs": [],
   "source": [
    "filename = logs[0]"
   ]
  },
  {
   "cell_type": "code",
   "execution_count": 4,
   "metadata": {},
   "outputs": [
    {
     "data": {
      "text/plain": [
       "'tb-logs/run-nist_mdipfl50_mymodel-hardest_tf_log-tag-loss.csv'"
      ]
     },
     "execution_count": 4,
     "metadata": {},
     "output_type": "execute_result"
    }
   ],
   "source": [
    "filename"
   ]
  },
  {
   "cell_type": "code",
   "execution_count": 5,
   "metadata": {},
   "outputs": [],
   "source": [
    "with open(filename) as f:\n",
    "    lines = [line.rstrip('\\n') for line in f]"
   ]
  },
  {
   "cell_type": "code",
   "execution_count": 6,
   "metadata": {},
   "outputs": [],
   "source": [
    "steps = len(lines) - 1"
   ]
  },
  {
   "cell_type": "code",
   "execution_count": 7,
   "metadata": {},
   "outputs": [],
   "source": [
    "first = lines[1].split(',')[0]"
   ]
  },
  {
   "cell_type": "code",
   "execution_count": 8,
   "metadata": {},
   "outputs": [],
   "source": [
    "last = lines[len(lines)-1].split(',')[0]"
   ]
  },
  {
   "cell_type": "code",
   "execution_count": 9,
   "metadata": {},
   "outputs": [],
   "source": [
    "len_secs = float(last) - float(first)"
   ]
  },
  {
   "cell_type": "code",
   "execution_count": 10,
   "metadata": {},
   "outputs": [
    {
     "data": {
      "text/plain": [
       "2500.345179080963"
      ]
     },
     "execution_count": 10,
     "metadata": {},
     "output_type": "execute_result"
    }
   ],
   "source": [
    "len_secs"
   ]
  },
  {
   "cell_type": "code",
   "execution_count": 11,
   "metadata": {},
   "outputs": [],
   "source": [
    "per_step = len_secs / steps"
   ]
  },
  {
   "cell_type": "code",
   "execution_count": 12,
   "metadata": {},
   "outputs": [
    {
     "data": {
      "text/plain": [
       "48.08356113617237"
      ]
     },
     "execution_count": 12,
     "metadata": {},
     "output_type": "execute_result"
    }
   ],
   "source": [
    "per_step"
   ]
  },
  {
   "cell_type": "code",
   "execution_count": 13,
   "metadata": {},
   "outputs": [],
   "source": [
    "def getLenAndSteps(lines):\n",
    "    steps = len(lines) - 1\n",
    "    first = lines[1].split(',')[0]\n",
    "    last = lines[steps].split(',')[0]\n",
    "    len_secs = float(last) - float(first)\n",
    "    return len_secs, steps"
   ]
  },
  {
   "cell_type": "code",
   "execution_count": 22,
   "metadata": {},
   "outputs": [
    {
     "name": "stdout",
     "output_type": "stream",
     "text": [
      "run-nist_mdipfl50_mymodel-hardest_tf_log-tag-loss\t2500.35\t52\t48.08\n",
      "run-nist_mdipfl50_mymodel_nopretrain-hardest_tf_log-tag-loss\t2425.68\t46\t52.73\n",
      "run-nist_mdipfl50_mymodel_nopretrain_tf_log-tag-loss\t890.85\t16\t55.68\n",
      "run-nist_mdipfl50_mymodel_siamese_nopretrain_tf_log-tag-loss\t3017.49\t104\t29.01\n",
      "run-nist_mdipfl50_mymodel_siamese_tf_log-tag-loss\t2430.68\t86\t28.26\n",
      "run-nist_mdipfl50_mymodel_tf_log-tag-loss\t888.62\t19\t46.77\n",
      "run-nist_mymodel-hardest_tf_log-tag-loss\t2907.28\t18\t161.52\n",
      "run-nist_mymodel_nopretrain-hardest_tf_log-tag-loss\t9720.34\t60\t162.01\n",
      "run-nist_mymodel_nopretrain_tf_log-tag-loss\t9047.23\t47\t192.49\n",
      "run-nist_mymodel_siamese_nopretrain_tf_log-tag-loss\t10263.05\t102\t100.62\n",
      "run-nist_mymodel_siamese_tf_log-tag-loss\t7488.01\t75\t99.84\n",
      "run-nist_mymodel_tf_log-tag-loss\t2528.65\t16\t158.04\n",
      "run-nist_sq_mymodel-hardest_tf_log-tag-loss\t1454.04\t21\t69.24\n",
      "run-nist_sq_mymodel_nopretrain-hardest_tf_log-tag-loss\t1212.54\t32\t37.89\n",
      "run-nist_sq_mymodel_nopretrain_tf_log-tag-loss\t518.04\t16\t32.38\n",
      "run-nist_sq_mymodel_siamese_nopretrain_tf_log-tag-loss\t1984.10\t120\t16.53\n",
      "run-nist_sq_mymodel_siamese_tf_log-tag-loss\t2976.65\t73\t40.78\n",
      "run-nist_sq_mymodel_tf_log-tag-loss\t1399.09\t21\t66.62\n",
      "run-nu_cvpr2016_mdipfl50_nasnet-hardest_tf_log-tag-loss\t18398.95\t128\t143.74\n",
      "run-nu_cvpr2016_mdipfl50_nasnet_nopretrain-hardest_tf_log-tag-loss\t9706.98\t63\t154.08\n",
      "run-nu_cvpr2016_mdipfl50_nasnet_nopretrain_tf_log-tag-loss\t19148.73\t126\t151.97\n",
      "run-nu_cvpr2016_mdipfl50_nasnet_siamese_nopretrain_tf_log-tag-loss\t16344.36\t152\t107.53\n",
      "run-nu_cvpr2016_mdipfl50_nasnet_siamese_tf_log-tag-loss\t22784.71\t206\t110.61\n",
      "run-nu_cvpr2016_mdipfl50_nasnet_tf_log-tag-loss\t18932.07\t126\t150.25\n"
     ]
    }
   ],
   "source": [
    "for filename in logs:\n",
    "    if \"pretraining\" in filename:   #ignoring pretraining times\n",
    "        continue\n",
    "    with open(filename) as f:\n",
    "        lines = [line.rstrip('\\n') for line in f]\n",
    "    time, steps = getLenAndSteps(lines)\n",
    "    print(os.path.splitext(os.path.basename(filename))[0], \"{:.2f}\".format(time), steps, \"{:.2f}\".format(time/steps), sep=\"\\t\")"
   ]
  }
 ],
 "metadata": {
  "kernelspec": {
   "display_name": "Python 3",
   "language": "python",
   "name": "python3"
  },
  "language_info": {
   "codemirror_mode": {
    "name": "ipython",
    "version": 3
   },
   "file_extension": ".py",
   "mimetype": "text/x-python",
   "name": "python",
   "nbconvert_exporter": "python",
   "pygments_lexer": "ipython3",
   "version": "3.7.3"
  }
 },
 "nbformat": 4,
 "nbformat_minor": 4
}
