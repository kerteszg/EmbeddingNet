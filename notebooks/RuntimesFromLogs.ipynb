{
 "cells": [
  {
   "cell_type": "code",
   "execution_count": 1,
   "metadata": {},
   "outputs": [],
   "source": [
    "import os"
   ]
  },
  {
   "cell_type": "code",
   "execution_count": 2,
   "metadata": {},
   "outputs": [],
   "source": [
    "logs = [\"tb-logs/\" + item for item in os.listdir(\"tb-logs\") if \".csv\" in item]"
   ]
  },
  {
   "cell_type": "code",
   "execution_count": 3,
   "metadata": {},
   "outputs": [],
   "source": [
    "filename = logs[0]"
   ]
  },
  {
   "cell_type": "code",
   "execution_count": 4,
   "metadata": {},
   "outputs": [
    {
     "data": {
      "text/plain": [
       "'tb-logs/run-nist_mdipfl50_mymodel-hardest_tf_log-tag-loss.csv'"
      ]
     },
     "execution_count": 4,
     "metadata": {},
     "output_type": "execute_result"
    }
   ],
   "source": [
    "filename"
   ]
  },
  {
   "cell_type": "code",
   "execution_count": 5,
   "metadata": {},
   "outputs": [],
   "source": [
    "with open(filename) as f:\n",
    "    lines = [line.rstrip('\\n') for line in f]"
   ]
  },
  {
   "cell_type": "code",
   "execution_count": 6,
   "metadata": {},
   "outputs": [],
   "source": [
    "steps = len(lines) - 1"
   ]
  },
  {
   "cell_type": "code",
   "execution_count": 7,
   "metadata": {},
   "outputs": [],
   "source": [
    "first = lines[1].split(',')[0]"
   ]
  },
  {
   "cell_type": "code",
   "execution_count": 8,
   "metadata": {},
   "outputs": [],
   "source": [
    "last = lines[len(lines)-1].split(',')[0]"
   ]
  },
  {
   "cell_type": "code",
   "execution_count": 9,
   "metadata": {},
   "outputs": [],
   "source": [
    "len_secs = float(last) - float(first)"
   ]
  },
  {
   "cell_type": "code",
   "execution_count": 10,
   "metadata": {},
   "outputs": [
    {
     "data": {
      "text/plain": [
       "2500.345179080963"
      ]
     },
     "execution_count": 10,
     "metadata": {},
     "output_type": "execute_result"
    }
   ],
   "source": [
    "len_secs"
   ]
  },
  {
   "cell_type": "code",
   "execution_count": 11,
   "metadata": {},
   "outputs": [],
   "source": [
    "per_step = len_secs / steps"
   ]
  },
  {
   "cell_type": "code",
   "execution_count": 12,
   "metadata": {},
   "outputs": [
    {
     "data": {
      "text/plain": [
       "48.08356113617237"
      ]
     },
     "execution_count": 12,
     "metadata": {},
     "output_type": "execute_result"
    }
   ],
   "source": [
    "per_step"
   ]
  },
  {
   "cell_type": "code",
   "execution_count": 13,
   "metadata": {},
   "outputs": [],
   "source": [
    "def getLenAndSteps(lines):\n",
    "    steps = len(lines) - 1\n",
    "    first = lines[1].split(',')[0]\n",
    "    last = lines[steps].split(',')[0]\n",
    "    len_secs = float(last) - float(first)\n",
    "    return len_secs, steps"
   ]
  },
  {
   "cell_type": "code",
   "execution_count": 14,
   "metadata": {},
   "outputs": [
    {
     "name": "stdout",
     "output_type": "stream",
     "text": [
      "run-nist_mdipfl50_mymodel-hardest_tf_log-tag-loss 2500.345179080963 52 48.08356113617237\n",
      "run-nist_mdipfl50_mymodel-hardest_tf_log_pretraining_model-tag-loss 50.1733136177063 10 5.01733136177063\n",
      "run-nist_mdipfl50_mymodel_nopretrain-hardest_tf_log-tag-loss 2425.681337118149 46 52.73220298082932\n",
      "run-nist_mdipfl50_mymodel_nopretrain_tf_log-tag-loss 890.8517382144928 16 55.6782336384058\n",
      "run-nist_mdipfl50_mymodel_siamese_nopretrain_tf_log-tag-loss 3017.486405134201 104 29.014292357059624\n",
      "run-nist_mdipfl50_mymodel_siamese_tf_log-tag-loss 2430.6802232265472 86 28.263723525890086\n",
      "run-nist_mdipfl50_mymodel_siamese_tf_log_pretraining_model-tag-loss 50.29378914833069 10 5.029378914833069\n",
      "run-nist_mdipfl50_mymodel_tf_log-tag-loss 888.6245517730713 19 46.76971325121428\n",
      "run-nist_mdipfl50_mymodel_tf_log_pretraining_model-tag-loss 55.936405420303345 10 5.593640542030334\n",
      "run-nist_mymodel-hardest_tf_log-tag-loss 2907.282044649124 18 161.51566914717355\n",
      "run-nist_mymodel-hardest_tf_log_pretraining_model-tag-loss 217.67522168159485 10 21.767522168159484\n",
      "run-nist_mymodel_nopretrain-hardest_tf_log-tag-loss 9720.337332725525 60 162.00562221209208\n",
      "run-nist_mymodel_nopretrain_tf_log-tag-loss 9047.230008840561 47 192.49425550724598\n",
      "run-nist_mymodel_siamese_nopretrain_tf_log-tag-loss 10263.047703504562 102 100.61811474024081\n",
      "run-nist_mymodel_siamese_tf_log-tag-loss 7488.00893163681 75 99.84011908849081\n",
      "run-nist_mymodel_siamese_tf_log_pretraining_model-tag-loss 217.61390924453735 10 21.761390924453735\n",
      "run-nist_mymodel_tf_log-tag-loss 2528.6486353874207 16 158.0405397117138\n",
      "run-nist_mymodel_tf_log_pretraining_model-tag-loss 218.6846067905426 10 21.86846067905426\n",
      "run-nist_sq_mymodel-hardest_tf_log-tag-loss 1454.0400154590607 21 69.24000073614575\n",
      "run-nist_sq_mymodel-hardest_tf_log_pretraining_model-tag-loss 84.8471405506134 10 8.48471405506134\n",
      "run-nist_sq_mymodel_nopretrain-hardest_tf_log-tag-loss 1212.541499376297 32 37.89192185550928\n",
      "run-nist_sq_mymodel_nopretrain_tf_log-tag-loss 518.0444159507751 16 32.37777599692345\n",
      "run-nist_sq_mymodel_siamese_nopretrain_tf_log-tag-loss 1984.097059726715 120 16.53414216438929\n",
      "run-nist_sq_mymodel_siamese_tf_log-tag-loss 2976.6527967453003 73 40.77606570883973\n",
      "run-nist_sq_mymodel_siamese_tf_log_pretraining_model-tag-loss 81.7499029636383 10 8.17499029636383\n",
      "run-nist_sq_mymodel_tf_log-tag-loss 1399.0938928127289 21 66.62351870536804\n",
      "run-nist_sq_mymodel_tf_log_pretraining_model-tag-loss 84.01508975028992 10 8.401508975028992\n",
      "run-nu_cvpr2016_mdipfl50_nasnet-hardest_tf_log-tag-loss 18398.948331832886 128 143.74178384244442\n",
      "run-nu_cvpr2016_mdipfl50_nasnet-hardest_tf_log_pretraining_model-tag-loss 3982.7804861068726 100 39.82780486106873\n",
      "run-nu_cvpr2016_mdipfl50_nasnet_nopretrain-hardest_tf_log-tag-loss 9706.976843357086 63 154.07899751360455\n",
      "run-nu_cvpr2016_mdipfl50_nasnet_nopretrain_tf_log-tag-loss 19148.734303474426 126 151.97408177360657\n",
      "run-nu_cvpr2016_mdipfl50_nasnet_siamese_nopretrain_tf_log-tag-loss 16344.362473011017 152 107.52870048033564\n",
      "run-nu_cvpr2016_mdipfl50_nasnet_siamese_tf_log-tag-loss 22784.713851213455 206 110.60540704472551\n",
      "run-nu_cvpr2016_mdipfl50_nasnet_siamese_tf_log_pretraining_model-tag-loss 4261.88799405098 100 42.6188799405098\n",
      "run-nu_cvpr2016_mdipfl50_nasnet_tf_log-tag-loss 18932.069914102554 126 150.25452312779805\n",
      "run-nu_cvpr2016_mdipfl50_nasnet_tf_log_pretraining_model-tag-loss 4264.571737289429 100 42.64571737289429\n"
     ]
    }
   ],
   "source": [
    "for filename in logs:\n",
    "    with open(filename) as f:\n",
    "        lines = [line.rstrip('\\n') for line in f]\n",
    "    time, steps = getLenAndSteps(lines)\n",
    "    print(os.path.splitext(os.path.basename(filename))[0], time, steps, time/steps)"
   ]
  }
 ],
 "metadata": {
  "kernelspec": {
   "display_name": "Python 3",
   "language": "python",
   "name": "python3"
  },
  "language_info": {
   "codemirror_mode": {
    "name": "ipython",
    "version": 3
   },
   "file_extension": ".py",
   "mimetype": "text/x-python",
   "name": "python",
   "nbconvert_exporter": "python",
   "pygments_lexer": "ipython3",
   "version": "3.7.3"
  }
 },
 "nbformat": 4,
 "nbformat_minor": 4
}
